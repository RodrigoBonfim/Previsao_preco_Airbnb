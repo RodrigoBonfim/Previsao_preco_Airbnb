{
 "cells": [
  {
   "cell_type": "markdown",
   "id": "b778e838",
   "metadata": {},
   "source": [
    "- Para rodar o Streamlit não é possível fazer isso direto pelo Jupyter\n",
    "- File > downloadas > arquivo py\n",
    "- Para isso, abra o prompt de comando do anaconda, aceesse a pasta onde está o arquivo usando o comando \"cd + nome da pasta\" (Exemplo: cd Downloads)\n",
    "- Em seguida execute o comando \"streamlit run NomeDoArquivo.py\"\n",
    "- Se o arquivo original sofrer alterações, é necessário excluir o arquivo .py, e refazer todos os passos anteriores\n"
   ]
  },
  {
   "cell_type": "code",
   "execution_count": 1,
   "id": "080367ec",
   "metadata": {},
   "outputs": [
    {
     "name": "stdout",
     "output_type": "stream",
     "text": [
      "['host_is_superhost', 'host_listings_count', 'latitude', 'longitude', 'accommodates', 'bathrooms', 'bedrooms', 'beds', 'extra_people', 'minimum_nights', 'instant_bookable', 'ano', 'mes', 'n_amenities', 'property_type_Apartment', 'property_type_Bed and breakfast', 'property_type_Condominium', 'property_type_Guest suite', 'property_type_Guesthouse', 'property_type_Hostel', 'property_type_House', 'property_type_Loft', 'property_type_Outros', 'property_type_Serviced apartment', 'room_type_Entire home/apt', 'room_type_Hotel room', 'room_type_Private room', 'room_type_Shared room', 'cancellation_policy_Strict', 'cancellation_policy_flexible', 'cancellation_policy_moderate', 'cancellation_policy_strict_14_with_grace_period']\n"
     ]
    }
   ],
   "source": [
    "#O modelo criado, usa os dados armazenados no arquivo dados.csv. Entretanto, esse arquivo possui duas colunas que não devem estar presentes\n",
    "#no preenchimento dos dados pelo usuário, e portanto devem ser excluídas.\n",
    "#Para que o modelo funcione corretamente, a ordem das colunas e a padronização devem ser iguais.\n",
    "#Portanto, mais abaixo será feita uma reorganização dessas colunas na aplicação do botão \"Prever Valor do Imóvel\".\n",
    "#Para facilitar esse trabalho, foi criada uma lista chamadas \"colunas\" com os nomes das colunas na ordem correta.\n",
    "import pandas as pd\n",
    "dados = pd.read_csv(\"dados.csv\")\n",
    "#print(dados.columns)\n",
    "colunas = list(dados.columns)[1:-1]\n",
    "print(colunas)"
   ]
  },
  {
   "cell_type": "code",
   "execution_count": 2,
   "id": "8cf34176",
   "metadata": {},
   "outputs": [
    {
     "name": "stdout",
     "output_type": "stream",
     "text": [
      "{'property_type_Apartment': 0, 'property_type_Bed and breakfast': 0, 'property_type_Condominium': 0, 'property_type_Guest suite': 0, 'property_type_Guesthouse': 0, 'property_type_Hostel': 0, 'property_type_House': 0, 'property_type_Loft': 0, 'property_type_Outros': 0, 'property_type_Serviced apartment': 0, 'room_type_Entire home/apt': 0, 'room_type_Hotel room': 0, 'room_type_Private room': 0, 'room_type_Shared room': 0, 'cancellation_policy_flexible': 0, 'cancellation_policy_moderate': 0, 'cancellation_policy_strict': 0, 'cancellation_policy_strict_14_with_grace_period': 0}\n"
     ]
    }
   ],
   "source": [
    "\n",
    "import streamlit as st\n",
    "import joblib\n",
    "\n",
    "#modelo = joblib.load('modelo.joblib')\n",
    "\n",
    "       \n",
    "x_numericos = {'latitude': 0, 'longitude': 0, 'accommodates': 0, 'bathrooms': 0, 'bedrooms': 0, 'beds': 0, 'extra_people': 0,\n",
    "               'minimum_nights': 0, 'ano': 0, 'mes': 0, 'n_amenities': 0, 'host_listings_count': 0}\n",
    "\n",
    "x_tf = {'host_is_superhost': 0, 'instant_bookable': 0}\n",
    "\n",
    "x_listas = {'property_type': ['Apartment', 'Bed and breakfast', 'Condominium', 'Guest suite', 'Guesthouse', 'Hostel', 'House', 'Loft', 'Outros', 'Serviced apartment'],\n",
    "            'room_type': ['Entire home/apt', 'Hotel room', 'Private room', 'Shared room'],\n",
    "            'cancellation_policy': ['flexible', 'moderate', 'strict', 'strict_14_with_grace_period']\n",
    "            }\n",
    "\n",
    "dicionario = {}\n",
    "for item in x_listas:#acessando as chaves do dicionario X_listas\n",
    "    for valor in x_listas[item]: #Acessando o valor de cada item dentro das chaves do dicionario\n",
    "        dicionario[f'{item}_{valor}'] = 0 #combina a chave do dicionario{item} com cada valor dentro de cada chave, e atribui 0\n",
    "\n",
    "print(dicionario)\n",
    "    \n"
   ]
  },
  {
   "cell_type": "code",
   "execution_count": 3,
   "id": "d5f93279",
   "metadata": {},
   "outputs": [
    {
     "name": "stderr",
     "output_type": "stream",
     "text": [
      "2023-07-10 15:27:32.688 \n",
      "  \u001b[33m\u001b[1mWarning:\u001b[0m to view this Streamlit app on a browser, run it with the following\n",
      "  command:\n",
      "\n",
      "    streamlit run C:\\ProgramData\\Anaconda3\\lib\\site-packages\\ipykernel_launcher.py [ARGUMENTS]\n"
     ]
    }
   ],
   "source": [
    "for item in x_numericos:\n",
    "    if item == \"latitude\" or item == 'longitude':\n",
    "        valor = st.number_input(f'{item}', step=0.00001, value=0.0, format=\"%.5f\")\n",
    "    elif item == 'extra_people':\n",
    "         valor = st.number_input(f'{item}', step=0.01, value=0.0)\n",
    "    else:\n",
    "        valor = st.number_input(f'{item}', step=1, value=0)\n",
    "    x_numericos[item] = valor\n",
    "    \n",
    "for item in x_tf:\n",
    "    valor = st.selectbox(f'{item}', ('Sim', \"Não\"))\n",
    "    if valor == \"Sim\":\n",
    "        x_tf[item] = 1\n",
    "    else:\n",
    "        x_tf[item] = 0\n",
    "    \n",
    "for item in x_listas:\n",
    "    valor = st.selectbox(f'{item}', x_listas[item])\n",
    "    dicionario[f'{item}_{valor}'] = 1\n",
    "    \n",
    "botao = st.button('Prever Valor do Imóvel')\n",
    "if botao:\n",
    "    dicionario.update(x_numericos)\n",
    "    dicionario.update(x_tf)\n",
    "    valores_x = pd.DataFrame(dicionario, index=[0])\n",
    "    valores_x = valores_x[colunas]\n",
    "    modelo = joblib.load('modelo.joblib')\n",
    "    preco = modelo.predict(valores_x)\n",
    "    st.write(preco[0])\n"
   ]
  }
 ],
 "metadata": {
  "kernelspec": {
   "display_name": "Python 3",
   "language": "python",
   "name": "python3"
  },
  "language_info": {
   "codemirror_mode": {
    "name": "ipython",
    "version": 3
   },
   "file_extension": ".py",
   "mimetype": "text/x-python",
   "name": "python",
   "nbconvert_exporter": "python",
   "pygments_lexer": "ipython3",
   "version": "3.8.8"
  }
 },
 "nbformat": 4,
 "nbformat_minor": 5
}
